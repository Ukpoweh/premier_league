{
 "cells": [
  {
   "cell_type": "code",
   "execution_count": 20,
   "id": "990b2a4d",
   "metadata": {},
   "outputs": [],
   "source": [
    "import requests\n",
    "import pandas as pd\n",
    "from bs4 import BeautifulSoup"
   ]
  },
  {
   "cell_type": "code",
   "execution_count": 2,
   "id": "3d2da651",
   "metadata": {},
   "outputs": [],
   "source": [
    "stats_url = \"https://fbref.com/en/comps/9/Premier-League-Stats\""
   ]
  },
  {
   "cell_type": "code",
   "execution_count": 3,
   "id": "a10f9bba",
   "metadata": {},
   "outputs": [],
   "source": [
    "data = requests.get(stats_url)\n"
   ]
  },
  {
   "cell_type": "code",
   "execution_count": 5,
   "id": "27838857",
   "metadata": {},
   "outputs": [],
   "source": [
    "soup = BeautifulSoup(data.text)"
   ]
  },
  {
   "cell_type": "code",
   "execution_count": 6,
   "id": "0ef1b385",
   "metadata": {},
   "outputs": [],
   "source": [
    "season_table = soup.select('table.stats_table')[0]"
   ]
  },
  {
   "cell_type": "code",
   "execution_count": 14,
   "id": "192d866d",
   "metadata": {},
   "outputs": [],
   "source": [
    "team_links = [h for h in (l.get(\"href\") for l in (season_table.find_all('a'))) if '/squads/' in h]"
   ]
  },
  {
   "cell_type": "code",
   "execution_count": 18,
   "id": "ad046aae",
   "metadata": {},
   "outputs": [],
   "source": [
    "team_urls = [f\"https://fbref.com{l}\" for l in team_links]"
   ]
  },
  {
   "cell_type": "code",
   "execution_count": 27,
   "id": "d2d14ba1",
   "metadata": {},
   "outputs": [
    {
     "data": {
      "text/html": [
       "<div>\n",
       "<style scoped>\n",
       "    .dataframe tbody tr th:only-of-type {\n",
       "        vertical-align: middle;\n",
       "    }\n",
       "\n",
       "    .dataframe tbody tr th {\n",
       "        vertical-align: top;\n",
       "    }\n",
       "\n",
       "    .dataframe thead th {\n",
       "        text-align: right;\n",
       "    }\n",
       "</style>\n",
       "<table border=\"1\" class=\"dataframe\">\n",
       "  <thead>\n",
       "    <tr style=\"text-align: right;\">\n",
       "      <th></th>\n",
       "      <th>Date</th>\n",
       "      <th>Time</th>\n",
       "      <th>Comp</th>\n",
       "      <th>Round</th>\n",
       "      <th>Day</th>\n",
       "      <th>Venue</th>\n",
       "      <th>Result</th>\n",
       "      <th>GF</th>\n",
       "      <th>GA</th>\n",
       "      <th>Opponent</th>\n",
       "      <th>xG</th>\n",
       "      <th>xGA</th>\n",
       "      <th>Poss</th>\n",
       "      <th>Attendance</th>\n",
       "      <th>Captain</th>\n",
       "      <th>Formation</th>\n",
       "      <th>Referee</th>\n",
       "      <th>Match Report</th>\n",
       "      <th>Notes</th>\n",
       "    </tr>\n",
       "  </thead>\n",
       "  <tbody>\n",
       "    <tr>\n",
       "      <th>0</th>\n",
       "      <td>2023-08-06</td>\n",
       "      <td>16:00</td>\n",
       "      <td>Community Shield</td>\n",
       "      <td>FA Community Shield</td>\n",
       "      <td>Sun</td>\n",
       "      <td>Neutral</td>\n",
       "      <td>D</td>\n",
       "      <td>1 (4)</td>\n",
       "      <td>1 (1)</td>\n",
       "      <td>Manchester City</td>\n",
       "      <td>NaN</td>\n",
       "      <td>NaN</td>\n",
       "      <td>45.0</td>\n",
       "      <td>81145.0</td>\n",
       "      <td>Martin Ødegaard</td>\n",
       "      <td>4-3-3</td>\n",
       "      <td>Stuart Attwell</td>\n",
       "      <td>Match Report</td>\n",
       "      <td>Arsenal won on penalty kicks following normal ...</td>\n",
       "    </tr>\n",
       "    <tr>\n",
       "      <th>1</th>\n",
       "      <td>2023-08-12</td>\n",
       "      <td>12:30</td>\n",
       "      <td>Premier League</td>\n",
       "      <td>Matchweek 1</td>\n",
       "      <td>Sat</td>\n",
       "      <td>Home</td>\n",
       "      <td>W</td>\n",
       "      <td>2</td>\n",
       "      <td>1</td>\n",
       "      <td>Nott'ham Forest</td>\n",
       "      <td>0.8</td>\n",
       "      <td>1.2</td>\n",
       "      <td>78.0</td>\n",
       "      <td>59984.0</td>\n",
       "      <td>Martin Ødegaard</td>\n",
       "      <td>4-3-3</td>\n",
       "      <td>Michael Oliver</td>\n",
       "      <td>Match Report</td>\n",
       "      <td>NaN</td>\n",
       "    </tr>\n",
       "    <tr>\n",
       "      <th>2</th>\n",
       "      <td>2023-08-21</td>\n",
       "      <td>20:00</td>\n",
       "      <td>Premier League</td>\n",
       "      <td>Matchweek 2</td>\n",
       "      <td>Mon</td>\n",
       "      <td>Away</td>\n",
       "      <td>W</td>\n",
       "      <td>1</td>\n",
       "      <td>0</td>\n",
       "      <td>Crystal Palace</td>\n",
       "      <td>2.0</td>\n",
       "      <td>1.0</td>\n",
       "      <td>53.0</td>\n",
       "      <td>24189.0</td>\n",
       "      <td>Martin Ødegaard</td>\n",
       "      <td>4-3-3</td>\n",
       "      <td>David Coote</td>\n",
       "      <td>Match Report</td>\n",
       "      <td>NaN</td>\n",
       "    </tr>\n",
       "    <tr>\n",
       "      <th>3</th>\n",
       "      <td>2023-08-26</td>\n",
       "      <td>15:00</td>\n",
       "      <td>Premier League</td>\n",
       "      <td>Matchweek 3</td>\n",
       "      <td>Sat</td>\n",
       "      <td>Home</td>\n",
       "      <td>D</td>\n",
       "      <td>2</td>\n",
       "      <td>2</td>\n",
       "      <td>Fulham</td>\n",
       "      <td>3.2</td>\n",
       "      <td>0.6</td>\n",
       "      <td>71.0</td>\n",
       "      <td>59961.0</td>\n",
       "      <td>Martin Ødegaard</td>\n",
       "      <td>4-3-3</td>\n",
       "      <td>Paul Tierney</td>\n",
       "      <td>Match Report</td>\n",
       "      <td>NaN</td>\n",
       "    </tr>\n",
       "    <tr>\n",
       "      <th>4</th>\n",
       "      <td>2023-09-03</td>\n",
       "      <td>16:30</td>\n",
       "      <td>Premier League</td>\n",
       "      <td>Matchweek 4</td>\n",
       "      <td>Sun</td>\n",
       "      <td>Home</td>\n",
       "      <td>W</td>\n",
       "      <td>3</td>\n",
       "      <td>1</td>\n",
       "      <td>Manchester Utd</td>\n",
       "      <td>2.3</td>\n",
       "      <td>0.9</td>\n",
       "      <td>55.0</td>\n",
       "      <td>60192.0</td>\n",
       "      <td>Martin Ødegaard</td>\n",
       "      <td>4-3-3</td>\n",
       "      <td>Anthony Taylor</td>\n",
       "      <td>Match Report</td>\n",
       "      <td>NaN</td>\n",
       "    </tr>\n",
       "  </tbody>\n",
       "</table>\n",
       "</div>"
      ],
      "text/plain": [
       "         Date   Time              Comp                Round  Day    Venue  \\\n",
       "0  2023-08-06  16:00  Community Shield  FA Community Shield  Sun  Neutral   \n",
       "1  2023-08-12  12:30    Premier League          Matchweek 1  Sat     Home   \n",
       "2  2023-08-21  20:00    Premier League          Matchweek 2  Mon     Away   \n",
       "3  2023-08-26  15:00    Premier League          Matchweek 3  Sat     Home   \n",
       "4  2023-09-03  16:30    Premier League          Matchweek 4  Sun     Home   \n",
       "\n",
       "  Result     GF     GA         Opponent   xG  xGA  Poss  Attendance  \\\n",
       "0      D  1 (4)  1 (1)  Manchester City  NaN  NaN  45.0     81145.0   \n",
       "1      W      2      1  Nott'ham Forest  0.8  1.2  78.0     59984.0   \n",
       "2      W      1      0   Crystal Palace  2.0  1.0  53.0     24189.0   \n",
       "3      D      2      2           Fulham  3.2  0.6  71.0     59961.0   \n",
       "4      W      3      1   Manchester Utd  2.3  0.9  55.0     60192.0   \n",
       "\n",
       "           Captain Formation         Referee  Match Report  \\\n",
       "0  Martin Ødegaard     4-3-3  Stuart Attwell  Match Report   \n",
       "1  Martin Ødegaard     4-3-3  Michael Oliver  Match Report   \n",
       "2  Martin Ødegaard     4-3-3     David Coote  Match Report   \n",
       "3  Martin Ødegaard     4-3-3    Paul Tierney  Match Report   \n",
       "4  Martin Ødegaard     4-3-3  Anthony Taylor  Match Report   \n",
       "\n",
       "                                               Notes  \n",
       "0  Arsenal won on penalty kicks following normal ...  \n",
       "1                                                NaN  \n",
       "2                                                NaN  \n",
       "3                                                NaN  \n",
       "4                                                NaN  "
      ]
     },
     "execution_count": 27,
     "metadata": {},
     "output_type": "execute_result"
    }
   ],
   "source": [
    "team_url = team_urls[0]\n",
    "\n",
    "team_data = requests.get(team_url)\n",
    "\n",
    "\n",
    "team_matches = pd.read_html(team_data.text, match=\"Scores & Fixtures\")\n",
    "\n",
    "team_matches[0].head()"
   ]
  },
  {
   "cell_type": "code",
   "execution_count": 24,
   "id": "a49e7dfe",
   "metadata": {},
   "outputs": [
    {
     "data": {
      "text/plain": [
       "['/en/squads/18bb7c10/2023-2024/matchlogs/all_comps/shooting/Arsenal-Match-Logs-All-Competitions',\n",
       " '/en/squads/18bb7c10/2023-2024/matchlogs/all_comps/shooting/Arsenal-Match-Logs-All-Competitions',\n",
       " '/en/squads/18bb7c10/2023-2024/matchlogs/all_comps/shooting/Arsenal-Match-Logs-All-Competitions',\n",
       " '/en/squads/18bb7c10/2023-2024/matchlogs/all_comps/shooting/Arsenal-Match-Logs-All-Competitions']"
      ]
     },
     "execution_count": 24,
     "metadata": {},
     "output_type": "execute_result"
    }
   ],
   "source": [
    "shooting_soup = BeautifulSoup(team_data.text)\n",
    "\n",
    "shooting_links = [h for h in (l.get(\"href\") for l in (info_soup.find_all('a'))) if h and 'all_comps/shooting/' in h]\n",
    "shooting_links"
   ]
  },
  {
   "cell_type": "code",
   "execution_count": 25,
   "id": "be4b2e40",
   "metadata": {},
   "outputs": [
    {
     "data": {
      "text/html": [
       "<div>\n",
       "<style scoped>\n",
       "    .dataframe tbody tr th:only-of-type {\n",
       "        vertical-align: middle;\n",
       "    }\n",
       "\n",
       "    .dataframe tbody tr th {\n",
       "        vertical-align: top;\n",
       "    }\n",
       "\n",
       "    .dataframe thead tr th {\n",
       "        text-align: left;\n",
       "    }\n",
       "</style>\n",
       "<table border=\"1\" class=\"dataframe\">\n",
       "  <thead>\n",
       "    <tr>\n",
       "      <th></th>\n",
       "      <th colspan=\"10\" halign=\"left\">For Arsenal</th>\n",
       "      <th>...</th>\n",
       "      <th colspan=\"4\" halign=\"left\">Standard</th>\n",
       "      <th colspan=\"5\" halign=\"left\">Expected</th>\n",
       "      <th>Unnamed: 25_level_0</th>\n",
       "    </tr>\n",
       "    <tr>\n",
       "      <th></th>\n",
       "      <th>Date</th>\n",
       "      <th>Time</th>\n",
       "      <th>Comp</th>\n",
       "      <th>Round</th>\n",
       "      <th>Day</th>\n",
       "      <th>Venue</th>\n",
       "      <th>Result</th>\n",
       "      <th>GF</th>\n",
       "      <th>GA</th>\n",
       "      <th>Opponent</th>\n",
       "      <th>...</th>\n",
       "      <th>Dist</th>\n",
       "      <th>FK</th>\n",
       "      <th>PK</th>\n",
       "      <th>PKatt</th>\n",
       "      <th>xG</th>\n",
       "      <th>npxG</th>\n",
       "      <th>npxG/Sh</th>\n",
       "      <th>G-xG</th>\n",
       "      <th>np:G-xG</th>\n",
       "      <th>Match Report</th>\n",
       "    </tr>\n",
       "  </thead>\n",
       "  <tbody>\n",
       "    <tr>\n",
       "      <th>0</th>\n",
       "      <td>2023-08-06</td>\n",
       "      <td>16:00</td>\n",
       "      <td>Community Shield</td>\n",
       "      <td>FA Community Shield</td>\n",
       "      <td>Sun</td>\n",
       "      <td>Neutral</td>\n",
       "      <td>D</td>\n",
       "      <td>1 (4)</td>\n",
       "      <td>1 (1)</td>\n",
       "      <td>Manchester City</td>\n",
       "      <td>...</td>\n",
       "      <td>NaN</td>\n",
       "      <td>NaN</td>\n",
       "      <td>0</td>\n",
       "      <td>0</td>\n",
       "      <td>NaN</td>\n",
       "      <td>NaN</td>\n",
       "      <td>NaN</td>\n",
       "      <td>NaN</td>\n",
       "      <td>NaN</td>\n",
       "      <td>Match Report</td>\n",
       "    </tr>\n",
       "    <tr>\n",
       "      <th>1</th>\n",
       "      <td>2023-08-12</td>\n",
       "      <td>12:30</td>\n",
       "      <td>Premier League</td>\n",
       "      <td>Matchweek 1</td>\n",
       "      <td>Sat</td>\n",
       "      <td>Home</td>\n",
       "      <td>W</td>\n",
       "      <td>2</td>\n",
       "      <td>1</td>\n",
       "      <td>Nott'ham Forest</td>\n",
       "      <td>...</td>\n",
       "      <td>19.1</td>\n",
       "      <td>0.0</td>\n",
       "      <td>0</td>\n",
       "      <td>0</td>\n",
       "      <td>0.8</td>\n",
       "      <td>0.8</td>\n",
       "      <td>0.06</td>\n",
       "      <td>1.2</td>\n",
       "      <td>1.2</td>\n",
       "      <td>Match Report</td>\n",
       "    </tr>\n",
       "    <tr>\n",
       "      <th>2</th>\n",
       "      <td>2023-08-21</td>\n",
       "      <td>20:00</td>\n",
       "      <td>Premier League</td>\n",
       "      <td>Matchweek 2</td>\n",
       "      <td>Mon</td>\n",
       "      <td>Away</td>\n",
       "      <td>W</td>\n",
       "      <td>1</td>\n",
       "      <td>0</td>\n",
       "      <td>Crystal Palace</td>\n",
       "      <td>...</td>\n",
       "      <td>16.4</td>\n",
       "      <td>0.0</td>\n",
       "      <td>1</td>\n",
       "      <td>1</td>\n",
       "      <td>2.0</td>\n",
       "      <td>1.2</td>\n",
       "      <td>0.09</td>\n",
       "      <td>-1.0</td>\n",
       "      <td>-1.2</td>\n",
       "      <td>Match Report</td>\n",
       "    </tr>\n",
       "    <tr>\n",
       "      <th>3</th>\n",
       "      <td>2023-08-26</td>\n",
       "      <td>15:00</td>\n",
       "      <td>Premier League</td>\n",
       "      <td>Matchweek 3</td>\n",
       "      <td>Sat</td>\n",
       "      <td>Home</td>\n",
       "      <td>D</td>\n",
       "      <td>2</td>\n",
       "      <td>2</td>\n",
       "      <td>Fulham</td>\n",
       "      <td>...</td>\n",
       "      <td>13.8</td>\n",
       "      <td>0.0</td>\n",
       "      <td>1</td>\n",
       "      <td>1</td>\n",
       "      <td>3.2</td>\n",
       "      <td>2.4</td>\n",
       "      <td>0.14</td>\n",
       "      <td>-1.2</td>\n",
       "      <td>-1.4</td>\n",
       "      <td>Match Report</td>\n",
       "    </tr>\n",
       "    <tr>\n",
       "      <th>4</th>\n",
       "      <td>2023-09-03</td>\n",
       "      <td>16:30</td>\n",
       "      <td>Premier League</td>\n",
       "      <td>Matchweek 4</td>\n",
       "      <td>Sun</td>\n",
       "      <td>Home</td>\n",
       "      <td>W</td>\n",
       "      <td>3</td>\n",
       "      <td>1</td>\n",
       "      <td>Manchester Utd</td>\n",
       "      <td>...</td>\n",
       "      <td>15.0</td>\n",
       "      <td>0.0</td>\n",
       "      <td>0</td>\n",
       "      <td>0</td>\n",
       "      <td>2.3</td>\n",
       "      <td>2.3</td>\n",
       "      <td>0.13</td>\n",
       "      <td>0.7</td>\n",
       "      <td>0.7</td>\n",
       "      <td>Match Report</td>\n",
       "    </tr>\n",
       "  </tbody>\n",
       "</table>\n",
       "<p>5 rows × 26 columns</p>\n",
       "</div>"
      ],
      "text/plain": [
       "  For Arsenal                                                              \\\n",
       "         Date   Time              Comp                Round  Day    Venue   \n",
       "0  2023-08-06  16:00  Community Shield  FA Community Shield  Sun  Neutral   \n",
       "1  2023-08-12  12:30    Premier League          Matchweek 1  Sat     Home   \n",
       "2  2023-08-21  20:00    Premier League          Matchweek 2  Mon     Away   \n",
       "3  2023-08-26  15:00    Premier League          Matchweek 3  Sat     Home   \n",
       "4  2023-09-03  16:30    Premier League          Matchweek 4  Sun     Home   \n",
       "\n",
       "                                         ... Standard               Expected  \\\n",
       "  Result     GF     GA         Opponent  ...     Dist   FK PK PKatt       xG   \n",
       "0      D  1 (4)  1 (1)  Manchester City  ...      NaN  NaN  0     0      NaN   \n",
       "1      W      2      1  Nott'ham Forest  ...     19.1  0.0  0     0      0.8   \n",
       "2      W      1      0   Crystal Palace  ...     16.4  0.0  1     1      2.0   \n",
       "3      D      2      2           Fulham  ...     13.8  0.0  1     1      3.2   \n",
       "4      W      3      1   Manchester Utd  ...     15.0  0.0  0     0      2.3   \n",
       "\n",
       "                            Unnamed: 25_level_0  \n",
       "  npxG npxG/Sh G-xG np:G-xG        Match Report  \n",
       "0  NaN     NaN  NaN     NaN        Match Report  \n",
       "1  0.8    0.06  1.2     1.2        Match Report  \n",
       "2  1.2    0.09 -1.0    -1.2        Match Report  \n",
       "3  2.4    0.14 -1.2    -1.4        Match Report  \n",
       "4  2.3    0.13  0.7     0.7        Match Report  \n",
       "\n",
       "[5 rows x 26 columns]"
      ]
     },
     "execution_count": 25,
     "metadata": {},
     "output_type": "execute_result"
    }
   ],
   "source": [
    "shooting_data = requests.get(f\"https://fbref.com{shooting_links[0]}\")\n",
    "\n",
    "shooting = pd.read_html(shooting_data.text, match=\"Shooting\")[0]\n",
    "\n",
    "shooting.head()"
   ]
  },
  {
   "cell_type": "code",
   "execution_count": 31,
   "id": "56943028",
   "metadata": {},
   "outputs": [
    {
     "data": {
      "text/plain": [
       "Index(['Date', 'Time', 'Comp', 'Round', 'Day', 'Venue', 'Result', 'GF', 'GA',\n",
       "       'Opponent', 'Gls', 'Sh', 'SoT', 'SoT%', 'G/Sh', 'G/SoT', 'Dist', 'FK',\n",
       "       'PK', 'PKatt', 'xG', 'npxG', 'npxG/Sh', 'G-xG', 'np:G-xG',\n",
       "       'Match Report'],\n",
       "      dtype='object')"
      ]
     },
     "execution_count": 31,
     "metadata": {},
     "output_type": "execute_result"
    }
   ],
   "source": [
    "#shooting.columns = shooting.columns.droplevel()\n",
    "shooting.columns"
   ]
  },
  {
   "cell_type": "code",
   "execution_count": 32,
   "id": "9f134a9a",
   "metadata": {},
   "outputs": [],
   "source": [
    "team_info = team_matches[0].merge(shooting[[\"Date\", \"Sh\", \"SoT\", \"Dist\", \"FK\", \"PK\", \"PKatt\"]], on='Date')"
   ]
  },
  {
   "cell_type": "code",
   "execution_count": 34,
   "id": "f609388b",
   "metadata": {},
   "outputs": [
    {
     "data": {
      "text/plain": [
       "(27, 25)"
      ]
     },
     "execution_count": 34,
     "metadata": {},
     "output_type": "execute_result"
    }
   ],
   "source": [
    "team_info.shape"
   ]
  },
  {
   "cell_type": "code",
   "execution_count": 36,
   "id": "e0eab677",
   "metadata": {},
   "outputs": [
    {
     "data": {
      "text/plain": [
       "(28, 26)"
      ]
     },
     "execution_count": 36,
     "metadata": {},
     "output_type": "execute_result"
    }
   ],
   "source": [
    "shooting.shape"
   ]
  },
  {
   "cell_type": "code",
   "execution_count": 38,
   "id": "6e35f54d",
   "metadata": {},
   "outputs": [
    {
     "data": {
      "text/plain": [
       "Premier League      38\n",
       "Champions Lg         8\n",
       "EFL Cup              2\n",
       "Community Shield     1\n",
       "FA Cup               1\n",
       "Name: Comp, dtype: int64"
      ]
     },
     "execution_count": 38,
     "metadata": {},
     "output_type": "execute_result"
    }
   ],
   "source": [
    "team_matches[0]['Comp'].value_counts()"
   ]
  },
  {
   "cell_type": "code",
   "execution_count": 39,
   "id": "a5a599ea",
   "metadata": {},
   "outputs": [
    {
     "data": {
      "text/plain": [
       "Premier League      18\n",
       "Champions Lg         6\n",
       "EFL Cup              2\n",
       "Community Shield     1\n",
       "Name: Comp, dtype: int64"
      ]
     },
     "execution_count": 39,
     "metadata": {},
     "output_type": "execute_result"
    }
   ],
   "source": [
    "shooting['Comp'].value_counts()"
   ]
  },
  {
   "cell_type": "code",
   "execution_count": null,
   "id": "f5189770",
   "metadata": {},
   "outputs": [],
   "source": []
  },
  {
   "cell_type": "code",
   "execution_count": null,
   "id": "a921c460",
   "metadata": {},
   "outputs": [],
   "source": []
  }
 ],
 "metadata": {
  "kernelspec": {
   "display_name": "Python 3 (ipykernel)",
   "language": "python",
   "name": "python3"
  },
  "language_info": {
   "codemirror_mode": {
    "name": "ipython",
    "version": 3
   },
   "file_extension": ".py",
   "mimetype": "text/x-python",
   "name": "python",
   "nbconvert_exporter": "python",
   "pygments_lexer": "ipython3",
   "version": "3.10.9"
  }
 },
 "nbformat": 4,
 "nbformat_minor": 5
}
