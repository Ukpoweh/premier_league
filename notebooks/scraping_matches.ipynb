{
 "cells": [
  {
   "cell_type": "code",
   "execution_count": 1,
   "id": "ab009e47",
   "metadata": {},
   "outputs": [],
   "source": [
    "import requests\n",
    "\n",
    "import pandas as pd\n",
    "\n",
    "from bs4 import BeautifulSoup\n",
    "\n",
    "import time"
   ]
  },
  {
   "cell_type": "code",
   "execution_count": 2,
   "id": "d860f8cd",
   "metadata": {},
   "outputs": [],
   "source": [
    "years = list(range(2024,2021, -1))"
   ]
  },
  {
   "cell_type": "code",
   "execution_count": 3,
   "id": "01b5dd92",
   "metadata": {},
   "outputs": [
    {
     "data": {
      "text/plain": [
       "[2024, 2023, 2022]"
      ]
     },
     "execution_count": 3,
     "metadata": {},
     "output_type": "execute_result"
    }
   ],
   "source": [
    "years"
   ]
  },
  {
   "cell_type": "code",
   "execution_count": 4,
   "id": "c1e9829e",
   "metadata": {},
   "outputs": [],
   "source": [
    "all_matches =[]"
   ]
  },
  {
   "cell_type": "code",
   "execution_count": 5,
   "id": "f70a0292",
   "metadata": {},
   "outputs": [],
   "source": [
    "stats_url = \"https://fbref.com/en/comps/9/Premier-League-Stats\""
   ]
  },
  {
   "cell_type": "code",
   "execution_count": 6,
   "id": "51c0ec4a",
   "metadata": {},
   "outputs": [],
   "source": [
    "connect_timeout = 6\n",
    "read_timeout = 100\n",
    "\n",
    "for year in years:\n",
    "    \n",
    "    data = requests.get(stats_url, timeout=(connect_timeout, read_timeout))\n",
    "    soup = BeautifulSoup(data.text)\n",
    "    season_table = soup.select('table.stats_table')[0]\n",
    "    \n",
    "    team_links = [h for h in (l.get(\"href\") for l in (season_table.find_all('a'))) if '/squads/' in h]\n",
    "    team_urls = [f\"https://fbref.com{l}\" for l in team_links]\n",
    "    \n",
    "    previous_season = soup.select(\"a.prev\")[0].get(\"href\")\n",
    "    stats_url = f\"https://fbref.com{previous_season}\"\n",
    "    \n",
    "    \n",
    "    for team_url in team_urls:\n",
    "        team_name = team_url.split(\"/\")[-1].replace(\"-Stats\", \"\").replace(\"-\", \" \")\n",
    "        team_data = requests.get(team_url, timeout=(connect_timeout, read_timeout))\n",
    "        \n",
    "        team_matches = pd.read_html(team_data.text, match=\"Scores & Fixtures\")[0]\n",
    "        \n",
    "        \n",
    "        shooting_soup = BeautifulSoup(team_data.text)\n",
    "\n",
    "        shooting_links = [h for h in (l.get(\"href\") for l in (shooting_soup.find_all('a'))) if h and 'all_comps/shooting/' in h]\n",
    "        \n",
    "        shooting_data = requests.get(f\"https://fbref.com{shooting_links[0]}\", timeout=(connect_timeout, read_timeout))\n",
    "\n",
    "        shooting = pd.read_html(shooting_data.text, match=\"Shooting\")[0]\n",
    "        \n",
    "        shooting.columns = shooting.columns.droplevel()\n",
    "        \n",
    "        try:\n",
    "            team_info = team_matches.merge(shooting[[\"Date\", \"Sh\", \"SoT\", \"Dist\", \"FK\", \"PK\", \"PKatt\"]], on='Date')\n",
    "        except ValueError:\n",
    "            continue\n",
    "        \n",
    "        team_info = team_info[team_info[\"Comp\"] == \"Premier League\"]\n",
    "        \n",
    "        team_info[\"Season\"] = year\n",
    "        team_info[\"Team\"] = team_name\n",
    "        all_matches.append(team_info)\n",
    "        \n",
    "        time.sleep(5)\n",
    "        \n",
    "    \n",
    "        "
   ]
  },
  {
   "cell_type": "code",
   "execution_count": 7,
   "id": "b499c876",
   "metadata": {},
   "outputs": [],
   "source": [
    "match_df = pd.concat(all_matches)"
   ]
  },
  {
   "cell_type": "code",
   "execution_count": 8,
   "id": "60e206a0",
   "metadata": {},
   "outputs": [
    {
     "data": {
      "text/plain": [
       "(2234, 27)"
      ]
     },
     "execution_count": 8,
     "metadata": {},
     "output_type": "execute_result"
    }
   ],
   "source": [
    "match_df.shape"
   ]
  },
  {
   "cell_type": "code",
   "execution_count": 9,
   "id": "07f701a2",
   "metadata": {},
   "outputs": [
    {
     "data": {
      "text/plain": [
       "2023    760\n",
       "2022    760\n",
       "2024    714\n",
       "Name: Season, dtype: int64"
      ]
     },
     "execution_count": 9,
     "metadata": {},
     "output_type": "execute_result"
    }
   ],
   "source": [
    "match_df['Season'].value_counts()"
   ]
  },
  {
   "cell_type": "code",
   "execution_count": 10,
   "id": "4a526a2b",
   "metadata": {},
   "outputs": [
    {
     "data": {
      "text/plain": [
       "Arsenal                     36\n",
       "Wolverhampton Wanderers     36\n",
       "Burnley                     36\n",
       "Luton Town                  36\n",
       "Nottingham Forest           36\n",
       "Brentford                   36\n",
       "Everton                     36\n",
       "Crystal Palace              36\n",
       "Fulham                      36\n",
       "Sheffield United            36\n",
       "Bournemouth                 36\n",
       "West Ham United             36\n",
       "Aston Villa                 36\n",
       "Liverpool                   36\n",
       "Manchester City             35\n",
       "Manchester United           35\n",
       "Chelsea                     35\n",
       "Newcastle United            35\n",
       "Tottenham Hotspur           35\n",
       "Brighton and Hove Albion    35\n",
       "Name: Team, dtype: int64"
      ]
     },
     "execution_count": 10,
     "metadata": {},
     "output_type": "execute_result"
    }
   ],
   "source": [
    "match_df[match_df['Season']==2024][\"Team\"].value_counts()"
   ]
  },
  {
   "cell_type": "code",
   "execution_count": 11,
   "id": "eaca594b",
   "metadata": {},
   "outputs": [
    {
     "data": {
      "text/html": [
       "<div>\n",
       "<style scoped>\n",
       "    .dataframe tbody tr th:only-of-type {\n",
       "        vertical-align: middle;\n",
       "    }\n",
       "\n",
       "    .dataframe tbody tr th {\n",
       "        vertical-align: top;\n",
       "    }\n",
       "\n",
       "    .dataframe thead th {\n",
       "        text-align: right;\n",
       "    }\n",
       "</style>\n",
       "<table border=\"1\" class=\"dataframe\">\n",
       "  <thead>\n",
       "    <tr style=\"text-align: right;\">\n",
       "      <th></th>\n",
       "      <th>Date</th>\n",
       "      <th>Time</th>\n",
       "      <th>Comp</th>\n",
       "      <th>Round</th>\n",
       "      <th>Day</th>\n",
       "      <th>Venue</th>\n",
       "      <th>Result</th>\n",
       "      <th>GF</th>\n",
       "      <th>GA</th>\n",
       "      <th>Opponent</th>\n",
       "      <th>...</th>\n",
       "      <th>Match Report</th>\n",
       "      <th>Notes</th>\n",
       "      <th>Sh</th>\n",
       "      <th>SoT</th>\n",
       "      <th>Dist</th>\n",
       "      <th>FK</th>\n",
       "      <th>PK</th>\n",
       "      <th>PKatt</th>\n",
       "      <th>Season</th>\n",
       "      <th>Team</th>\n",
       "    </tr>\n",
       "  </thead>\n",
       "  <tbody>\n",
       "    <tr>\n",
       "      <th>1</th>\n",
       "      <td>2023-08-12</td>\n",
       "      <td>12:30</td>\n",
       "      <td>Premier League</td>\n",
       "      <td>Matchweek 1</td>\n",
       "      <td>Sat</td>\n",
       "      <td>Home</td>\n",
       "      <td>W</td>\n",
       "      <td>2</td>\n",
       "      <td>1</td>\n",
       "      <td>Nott'ham Forest</td>\n",
       "      <td>...</td>\n",
       "      <td>Match Report</td>\n",
       "      <td>NaN</td>\n",
       "      <td>15.0</td>\n",
       "      <td>7.0</td>\n",
       "      <td>19.1</td>\n",
       "      <td>0.0</td>\n",
       "      <td>0</td>\n",
       "      <td>0</td>\n",
       "      <td>2024</td>\n",
       "      <td>Arsenal</td>\n",
       "    </tr>\n",
       "    <tr>\n",
       "      <th>2</th>\n",
       "      <td>2023-08-21</td>\n",
       "      <td>20:00</td>\n",
       "      <td>Premier League</td>\n",
       "      <td>Matchweek 2</td>\n",
       "      <td>Mon</td>\n",
       "      <td>Away</td>\n",
       "      <td>W</td>\n",
       "      <td>1</td>\n",
       "      <td>0</td>\n",
       "      <td>Crystal Palace</td>\n",
       "      <td>...</td>\n",
       "      <td>Match Report</td>\n",
       "      <td>NaN</td>\n",
       "      <td>13.0</td>\n",
       "      <td>2.0</td>\n",
       "      <td>16.4</td>\n",
       "      <td>0.0</td>\n",
       "      <td>1</td>\n",
       "      <td>1</td>\n",
       "      <td>2024</td>\n",
       "      <td>Arsenal</td>\n",
       "    </tr>\n",
       "    <tr>\n",
       "      <th>3</th>\n",
       "      <td>2023-08-26</td>\n",
       "      <td>15:00</td>\n",
       "      <td>Premier League</td>\n",
       "      <td>Matchweek 3</td>\n",
       "      <td>Sat</td>\n",
       "      <td>Home</td>\n",
       "      <td>D</td>\n",
       "      <td>2</td>\n",
       "      <td>2</td>\n",
       "      <td>Fulham</td>\n",
       "      <td>...</td>\n",
       "      <td>Match Report</td>\n",
       "      <td>NaN</td>\n",
       "      <td>18.0</td>\n",
       "      <td>9.0</td>\n",
       "      <td>13.8</td>\n",
       "      <td>0.0</td>\n",
       "      <td>1</td>\n",
       "      <td>1</td>\n",
       "      <td>2024</td>\n",
       "      <td>Arsenal</td>\n",
       "    </tr>\n",
       "    <tr>\n",
       "      <th>4</th>\n",
       "      <td>2023-09-03</td>\n",
       "      <td>16:30</td>\n",
       "      <td>Premier League</td>\n",
       "      <td>Matchweek 4</td>\n",
       "      <td>Sun</td>\n",
       "      <td>Home</td>\n",
       "      <td>W</td>\n",
       "      <td>3</td>\n",
       "      <td>1</td>\n",
       "      <td>Manchester Utd</td>\n",
       "      <td>...</td>\n",
       "      <td>Match Report</td>\n",
       "      <td>NaN</td>\n",
       "      <td>17.0</td>\n",
       "      <td>5.0</td>\n",
       "      <td>15.0</td>\n",
       "      <td>0.0</td>\n",
       "      <td>0</td>\n",
       "      <td>0</td>\n",
       "      <td>2024</td>\n",
       "      <td>Arsenal</td>\n",
       "    </tr>\n",
       "    <tr>\n",
       "      <th>5</th>\n",
       "      <td>2023-09-17</td>\n",
       "      <td>16:30</td>\n",
       "      <td>Premier League</td>\n",
       "      <td>Matchweek 5</td>\n",
       "      <td>Sun</td>\n",
       "      <td>Away</td>\n",
       "      <td>W</td>\n",
       "      <td>1</td>\n",
       "      <td>0</td>\n",
       "      <td>Everton</td>\n",
       "      <td>...</td>\n",
       "      <td>Match Report</td>\n",
       "      <td>NaN</td>\n",
       "      <td>13.0</td>\n",
       "      <td>4.0</td>\n",
       "      <td>17.4</td>\n",
       "      <td>0.0</td>\n",
       "      <td>0</td>\n",
       "      <td>0</td>\n",
       "      <td>2024</td>\n",
       "      <td>Arsenal</td>\n",
       "    </tr>\n",
       "  </tbody>\n",
       "</table>\n",
       "<p>5 rows × 27 columns</p>\n",
       "</div>"
      ],
      "text/plain": [
       "         Date   Time            Comp        Round  Day Venue Result GF GA  \\\n",
       "1  2023-08-12  12:30  Premier League  Matchweek 1  Sat  Home      W  2  1   \n",
       "2  2023-08-21  20:00  Premier League  Matchweek 2  Mon  Away      W  1  0   \n",
       "3  2023-08-26  15:00  Premier League  Matchweek 3  Sat  Home      D  2  2   \n",
       "4  2023-09-03  16:30  Premier League  Matchweek 4  Sun  Home      W  3  1   \n",
       "5  2023-09-17  16:30  Premier League  Matchweek 5  Sun  Away      W  1  0   \n",
       "\n",
       "          Opponent  ...  Match Report  Notes    Sh  SoT  Dist   FK PK PKatt  \\\n",
       "1  Nott'ham Forest  ...  Match Report    NaN  15.0  7.0  19.1  0.0  0     0   \n",
       "2   Crystal Palace  ...  Match Report    NaN  13.0  2.0  16.4  0.0  1     1   \n",
       "3           Fulham  ...  Match Report    NaN  18.0  9.0  13.8  0.0  1     1   \n",
       "4   Manchester Utd  ...  Match Report    NaN  17.0  5.0  15.0  0.0  0     0   \n",
       "5          Everton  ...  Match Report    NaN  13.0  4.0  17.4  0.0  0     0   \n",
       "\n",
       "  Season     Team  \n",
       "1   2024  Arsenal  \n",
       "2   2024  Arsenal  \n",
       "3   2024  Arsenal  \n",
       "4   2024  Arsenal  \n",
       "5   2024  Arsenal  \n",
       "\n",
       "[5 rows x 27 columns]"
      ]
     },
     "execution_count": 11,
     "metadata": {},
     "output_type": "execute_result"
    }
   ],
   "source": [
    "match_df.head()"
   ]
  },
  {
   "cell_type": "code",
   "execution_count": 12,
   "id": "60e15bfb",
   "metadata": {},
   "outputs": [],
   "source": [
    "match_df.to_csv('../datasets/matches.csv', index=False)"
   ]
  },
  {
   "cell_type": "code",
   "execution_count": null,
   "id": "0ea7445e",
   "metadata": {},
   "outputs": [],
   "source": [
    "\n"
   ]
  }
 ],
 "metadata": {
  "kernelspec": {
   "display_name": "Python 3 (ipykernel)",
   "language": "python",
   "name": "python3"
  },
  "language_info": {
   "codemirror_mode": {
    "name": "ipython",
    "version": 3
   },
   "file_extension": ".py",
   "mimetype": "text/x-python",
   "name": "python",
   "nbconvert_exporter": "python",
   "pygments_lexer": "ipython3",
   "version": "3.10.9"
  }
 },
 "nbformat": 4,
 "nbformat_minor": 5
}
