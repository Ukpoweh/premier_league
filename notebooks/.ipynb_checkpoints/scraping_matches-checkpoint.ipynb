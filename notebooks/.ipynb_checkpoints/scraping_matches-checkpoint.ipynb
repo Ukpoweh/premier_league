{
 "cells": [
  {
   "cell_type": "code",
   "execution_count": 1,
   "id": "ab009e47",
   "metadata": {},
   "outputs": [],
   "source": [
    "import requests\n",
    "\n",
    "import pandas as pd\n",
    "\n",
    "from bs4 import BeautifulSoup\n",
    "\n",
    "import time"
   ]
  },
  {
   "cell_type": "code",
   "execution_count": 2,
   "id": "d860f8cd",
   "metadata": {},
   "outputs": [],
   "source": [
    "years = list(range(2024,2021, -1))"
   ]
  },
  {
   "cell_type": "code",
   "execution_count": 3,
   "id": "01b5dd92",
   "metadata": {},
   "outputs": [
    {
     "data": {
      "text/plain": [
       "[2024, 2023, 2022]"
      ]
     },
     "execution_count": 3,
     "metadata": {},
     "output_type": "execute_result"
    }
   ],
   "source": [
    "years"
   ]
  },
  {
   "cell_type": "code",
   "execution_count": 4,
   "id": "c1e9829e",
   "metadata": {},
   "outputs": [],
   "source": [
    "all_matches =[]"
   ]
  },
  {
   "cell_type": "code",
   "execution_count": 5,
   "id": "f70a0292",
   "metadata": {},
   "outputs": [],
   "source": [
    "stats_url = \"https://fbref.com/en/comps/9/Premier-League-Stats\""
   ]
  },
  {
   "cell_type": "code",
   "execution_count": 6,
   "id": "51c0ec4a",
   "metadata": {},
   "outputs": [
    {
     "ename": "KeyboardInterrupt",
     "evalue": "",
     "output_type": "error",
     "traceback": [
      "\u001b[1;31m---------------------------------------------------------------------------\u001b[0m",
      "\u001b[1;31mKeyboardInterrupt\u001b[0m                         Traceback (most recent call last)",
      "Cell \u001b[1;32mIn[6], line 45\u001b[0m\n\u001b[0;32m     42\u001b[0m team_info[\u001b[38;5;124m\"\u001b[39m\u001b[38;5;124mTeam\u001b[39m\u001b[38;5;124m\"\u001b[39m] \u001b[38;5;241m=\u001b[39m team_name\n\u001b[0;32m     43\u001b[0m all_matches\u001b[38;5;241m.\u001b[39mappend(team_info)\n\u001b[1;32m---> 45\u001b[0m \u001b[43mtime\u001b[49m\u001b[38;5;241;43m.\u001b[39;49m\u001b[43msleep\u001b[49m\u001b[43m(\u001b[49m\u001b[38;5;241;43m5\u001b[39;49m\u001b[43m)\u001b[49m\n",
      "\u001b[1;31mKeyboardInterrupt\u001b[0m: "
     ]
    }
   ],
   "source": [
    "connect_timeout = 6\n",
    "read_timeout = 100\n",
    "\n",
    "for year in years:\n",
    "    \n",
    "    data = requests.get(stats_url, timeout=(connect_timeout, read_timeout))\n",
    "    soup = BeautifulSoup(data.text)\n",
    "    season_table = soup.select('table.stats_table')[0]\n",
    "    \n",
    "    team_links = [h for h in (l.get(\"href\") for l in (season_table.find_all('a'))) if '/squads/' in h]\n",
    "    team_urls = [f\"https://fbref.com{l}\" for l in team_links]\n",
    "    \n",
    "    previous_season = soup.select(\"a.prev\")[0].get(\"href\")\n",
    "    stats_url = f\"https://fbref.com{previous_season}\"\n",
    "    \n",
    "    \n",
    "    for team_url in team_urls:\n",
    "        team_name = team_url.split(\"/\")[-1].replace(\"-Stats\", \"\").replace(\"-\", \" \")\n",
    "        team_data = requests.get(team_url, timeout=(connect_timeout, read_timeout))\n",
    "        \n",
    "        team_matches = pd.read_html(team_data.text, match=\"Scores & Fixtures\")[0]\n",
    "        \n",
    "        \n",
    "        shooting_soup = BeautifulSoup(team_data.text)\n",
    "\n",
    "        shooting_links = [h for h in (l.get(\"href\") for l in (shooting_soup.find_all('a'))) if h and 'all_comps/shooting/' in h]\n",
    "        \n",
    "        shooting_data = requests.get(f\"https://fbref.com{shooting_links[0]}\", timeout=(connect_timeout, read_timeout))\n",
    "\n",
    "        shooting = pd.read_html(shooting_data.text, match=\"Shooting\")[0]\n",
    "        \n",
    "        shooting.columns = shooting.columns.droplevel()\n",
    "        \n",
    "        try:\n",
    "            team_info = team_matches.merge(shooting[[\"Date\", \"Sh\", \"SoT\", \"Dist\", \"FK\", \"PK\", \"PKatt\"]], on='Date')\n",
    "        except ValueError:\n",
    "            continue\n",
    "        \n",
    "        team_info = team_info[team_info[\"Comp\"] == \"Premier League\"]\n",
    "        \n",
    "        team_info[\"Season\"] = year\n",
    "        team_info[\"Team\"] = team_name\n",
    "        all_matches.append(team_info)\n",
    "        \n",
    "        time.sleep(5)\n",
    "        \n",
    "    \n",
    "        "
   ]
  },
  {
   "cell_type": "code",
   "execution_count": null,
   "id": "b499c876",
   "metadata": {},
   "outputs": [],
   "source": [
    "match_df = pd.concat(all_matches)"
   ]
  },
  {
   "cell_type": "code",
   "execution_count": null,
   "id": "60e206a0",
   "metadata": {},
   "outputs": [],
   "source": [
    "match_df.shape"
   ]
  },
  {
   "cell_type": "code",
   "execution_count": null,
   "id": "07f701a2",
   "metadata": {},
   "outputs": [],
   "source": [
    "match_df['Season'].value_counts()"
   ]
  },
  {
   "cell_type": "code",
   "execution_count": null,
   "id": "4a526a2b",
   "metadata": {},
   "outputs": [],
   "source": [
    "match_df[match_df['Season']==2024][\"Team\"].value_counts()"
   ]
  },
  {
   "cell_type": "code",
   "execution_count": null,
   "id": "eaca594b",
   "metadata": {},
   "outputs": [],
   "source": [
    "match_df.head()"
   ]
  },
  {
   "cell_type": "code",
   "execution_count": null,
   "id": "60e15bfb",
   "metadata": {},
   "outputs": [],
   "source": [
    "match_df.to_csv('matches.csv', index=False)"
   ]
  },
  {
   "cell_type": "code",
   "execution_count": null,
   "id": "0ea7445e",
   "metadata": {},
   "outputs": [],
   "source": []
  }
 ],
 "metadata": {
  "kernelspec": {
   "display_name": "Python 3 (ipykernel)",
   "language": "python",
   "name": "python3"
  },
  "language_info": {
   "codemirror_mode": {
    "name": "ipython",
    "version": 3
   },
   "file_extension": ".py",
   "mimetype": "text/x-python",
   "name": "python",
   "nbconvert_exporter": "python",
   "pygments_lexer": "ipython3",
   "version": "3.10.9"
  }
 },
 "nbformat": 4,
 "nbformat_minor": 5
}
