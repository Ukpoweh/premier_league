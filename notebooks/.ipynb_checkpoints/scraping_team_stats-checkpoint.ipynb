{
 "cells": [
  {
   "cell_type": "code",
   "execution_count": 1,
   "id": "276e8ff9",
   "metadata": {},
   "outputs": [],
   "source": [
    "import requests\n",
    "\n",
    "import pandas as pd\n",
    "\n",
    "from bs4 import BeautifulSoup\n",
    "\n",
    "import time\n",
    "\n",
    "pd.set_option('display.max_columns', 50)"
   ]
  },
  {
   "cell_type": "code",
   "execution_count": 2,
   "id": "81f6396f",
   "metadata": {},
   "outputs": [
    {
     "data": {
      "text/plain": [
       "[2024, 2023, 2022]"
      ]
     },
     "execution_count": 2,
     "metadata": {},
     "output_type": "execute_result"
    }
   ],
   "source": [
    "years = list(range(2024,2021, -1))\n",
    "years"
   ]
  },
  {
   "cell_type": "code",
   "execution_count": null,
   "id": "461a48ba",
   "metadata": {},
   "outputs": [],
   "source": []
  },
  {
   "cell_type": "code",
   "execution_count": 3,
   "id": "4bd7e9ac",
   "metadata": {},
   "outputs": [],
   "source": [
    "connect_timeout = 6\n",
    "read_timeout = 100\n",
    "\n",
    "def stats(link, year):\n",
    "     \n",
    "    data = requests.get(link, timeout=(connect_timeout, read_timeout))\n",
    "    soup = BeautifulSoup(data.text)\n",
    "    \n",
    "    stats_table = pd.read_html(data.text, match=\"Regular season Table\")[0]\n",
    "    \n",
    "    standard_stats = pd.read_html(data.text, match = \"Squad Standard Stats\")[0]\n",
    "    standard_stats.columns = standard_stats.columns.droplevel()\n",
    "    \n",
    "    goalkeeping_stats = pd.read_html(data.text, match=\"Squad Goalkeeping\")[0]\n",
    "    goalkeeping_stats.columns = goalkeeping_stats.columns.droplevel()\n",
    "    \n",
    "    shooting_stats = pd.read_html(data.text, match=\"Squad Shooting\")[0]\n",
    "    shooting_stats.columns = shooting_stats.columns.droplevel()\n",
    "    \n",
    "    stats_standard = stats_table.merge(standard_stats[[\"Squad\", \"Poss\", \"Gls\", \"Ast\"]], on=\"Squad\", how=\"left\")\n",
    "    stats_standard_gk = stats_standard.merge(goalkeeping_stats[[\"Squad\", \"CS%\"]], on=\"Squad\", how=\"left\")\n",
    "    all_stats = stats_standard_gk.merge(shooting_stats[[\"Squad\", \"SoT/90\", \"G/SoT\", \"SoT%\"]], on=\"Squad\", how=\"left\")\n",
    "        \n",
    "    all_stats[\"Season\"] = year\n",
    "    \n",
    "    return all_stats\n",
    "    "
   ]
  },
  {
   "cell_type": "code",
   "execution_count": 4,
   "id": "bc5e5301",
   "metadata": {},
   "outputs": [],
   "source": [
    "overall_stats = []"
   ]
  },
  {
   "cell_type": "code",
   "execution_count": 5,
   "id": "2afb0959",
   "metadata": {},
   "outputs": [],
   "source": [
    "def concate():\n",
    "    \n",
    "    all_stats_2024 = stats(\"https://fbref.com/en/comps/9/Premier-League-Stats\", 2024)\n",
    "    all_stats_2024 = all_stats_2024.drop([\"Last 5\"], axis=1)\n",
    "    all_stats_2023 = stats(\"https://fbref.com/en/comps/9/2022-2023/2022-2023-Premier-League-Stats\", 2023)\n",
    "    all_stats_2022 = stats(\"https://fbref.com/en/comps/9/2021-2022/2021-2022-Premier-League-Stats\", 2022)\n",
    "    all_stats_2021 = stats(\"https://fbref.com/en/comps/9/2020-2021/2020-2021-Premier-League-Stats\", 2021)\n",
    "    all_stats_2020 = stats(\"https://fbref.com/en/comps/9/2019-2020/2019-2020-Premier-League-Stats\", 2020)\n",
    "    all_stats_2019 = stats(\"https://fbref.com/en/comps/9/2018-2019/2018-2019-Premier-League-Stats\", 2019)\n",
    "    \n",
    "    overall_stats.append(all_stats_2024)\n",
    "    overall_stats.append(all_stats_2023)\n",
    "    overall_stats.append(all_stats_2022)\n",
    "    overall_stats.append(all_stats_2021)\n",
    "    overall_stats.append(all_stats_2020)\n",
    "    overall_stats.append(all_stats_2019)\n",
    "    \n",
    "    overall_stats_df = pd.concat(overall_stats)\n",
    "    return overall_stats_df\n",
    "    "
   ]
  },
  {
   "cell_type": "code",
   "execution_count": null,
   "id": "815d4b7c",
   "metadata": {},
   "outputs": [],
   "source": [
    "overall_stats_df = concate()"
   ]
  },
  {
   "cell_type": "code",
   "execution_count": null,
   "id": "1d6a2e06",
   "metadata": {},
   "outputs": [],
   "source": [
    "overall_stats_df.head()"
   ]
  },
  {
   "cell_type": "code",
   "execution_count": null,
   "id": "7cbe3ef6",
   "metadata": {},
   "outputs": [],
   "source": [
    "overall_stats_df.shape"
   ]
  },
  {
   "cell_type": "code",
   "execution_count": null,
   "id": "3592db13",
   "metadata": {},
   "outputs": [],
   "source": [
    "overall_stats_df.to_csv(\"overall_stats2.csv\", index=False)"
   ]
  },
  {
   "cell_type": "code",
   "execution_count": null,
   "id": "16dcceb9",
   "metadata": {},
   "outputs": [],
   "source": []
  }
 ],
 "metadata": {
  "kernelspec": {
   "display_name": "Python 3 (ipykernel)",
   "language": "python",
   "name": "python3"
  },
  "language_info": {
   "codemirror_mode": {
    "name": "ipython",
    "version": 3
   },
   "file_extension": ".py",
   "mimetype": "text/x-python",
   "name": "python",
   "nbconvert_exporter": "python",
   "pygments_lexer": "ipython3",
   "version": "3.10.9"
  }
 },
 "nbformat": 4,
 "nbformat_minor": 5
}
